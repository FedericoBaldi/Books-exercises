{
 "cells": [
  {
   "cell_type": "code",
   "execution_count": 45,
   "metadata": {},
   "outputs": [],
   "source": [
    "# HYPOTHESIS AND INFERENCE\n",
    "# the goal is to test whether a certain hypothesis is likely to be true.\n",
    "# Example: is a coin fair? you compare the null hypothesis H0 to an alternative hypothesis. Fair coin p=0.5, hypothesis p!=0.5\n",
    "from IPython.display import clear_output\n",
    "from importnb import Notebook\n",
    "prob = Notebook.load(\"6 probability.ipynb\")\n",
    "clear_output() # work around to load ipynb file"
   ]
  },
  {
   "cell_type": "code",
   "execution_count": 46,
   "metadata": {},
   "outputs": [],
   "source": [
    "from typing import Tuple\n",
    "import math\n",
    "\n",
    "def normal_approximation_to_binomial(n: int, p: float) -> Tuple[float, float]:\n",
    "    \"\"\"Returns mu and sigma corresponding to a Binomial(n, p)\"\"\"\n",
    "    mu = p * n\n",
    "    sigma = math.sqrt(p * (1 - p) * n)\n",
    "    return mu, sigma\n",
    "\n",
    "# The normal cdf _is_ the probability the variable is below a threshold\n",
    "normal_probability_below = prob.normal_cdf\n",
    "\n",
    "# It's above the threshold if it's not below the threshold\n",
    "def normal_probability_above(lo: float,\n",
    "                             mu: float = 0,\n",
    "                             sigma: float = 1) -> float:\n",
    "    \"\"\"The probability that an N(mu, sigma) is greater than lo.\"\"\"\n",
    "    return 1 - prob.normal_cdf(lo, mu, sigma)\n",
    "\n",
    "# It's between if it's less than hi, but not less than lo\n",
    "def normal_probability_between(lo: float,\n",
    "                               hi: float,\n",
    "                               mu: float = 0,\n",
    "                               sigma: float = 1) -> float:\n",
    "    \"\"\"The probability that an N(mu, sigma) is between lo and hi.\"\"\"\n",
    "    return prob.normal_cdf(hi, mu, sigma) - prob.normal_cdf(lo, mu, sigma)\n",
    "\n",
    "# It's outside if it's not between\n",
    "def normal_probability_outside(lo: float,\n",
    "                               hi: float,\n",
    "                               mu: float = 0,\n",
    "                               sigma: float = 1) -> float:\n",
    "    \"\"\"The probability that an N(mu, sigma) is not between lo and hi.\"\"\"\n",
    "    return 1 - normal_probability_between(lo, hi, mu, sigma)"
   ]
  },
  {
   "cell_type": "code",
   "execution_count": 47,
   "metadata": {},
   "outputs": [],
   "source": [
    "def normal_upper_bound(probability: float,\n",
    "                       mu: float = 0,\n",
    "                       sigma: float = 1) -> float:\n",
    "    \"\"\"Returns the z for which P(Z <= z) = probability\"\"\"\n",
    "    return prob.inverse_normal_cdf(probability, mu, sigma)\n",
    "\n",
    "def normal_lower_bound(probability: float,\n",
    "                       mu: float = 0,\n",
    "                       sigma: float = 1) -> float:\n",
    "    \"\"\"Returns the z for which P(Z >= z) = probability\"\"\"\n",
    "    return prob.inverse_normal_cdf(1 - probability, mu, sigma)\n",
    "\n",
    "def normal_two_sided_bounds(probability: float,\n",
    "                            mu: float = 0,\n",
    "                            sigma: float = 1) -> Tuple[float, float]:\n",
    "    \"\"\"\n",
    "    Returns the symmetric (about the mean) bounds\n",
    "    that contain the specified probability\n",
    "    \"\"\"\n",
    "    tail_probability = (1 - probability) / 2\n",
    "\n",
    "    # upper bound should have tail_probability above it\n",
    "    upper_bound = normal_lower_bound(tail_probability, mu, sigma)\n",
    "\n",
    "    # lower bound should have tail_probability below it\n",
    "    lower_bound = normal_upper_bound(tail_probability, mu, sigma)\n",
    "\n",
    "    return lower_bound, upper_bound"
   ]
  },
  {
   "cell_type": "code",
   "execution_count": 48,
   "metadata": {},
   "outputs": [
    {
     "name": "stdout",
     "output_type": "stream",
     "text": [
      "500.0 15.811388300841896\n",
      "469.01026640487555 530.9897335951244\n",
      "550.0 15.732132722552274\n"
     ]
    }
   ],
   "source": [
    "mu_0, sigma_0 = normal_approximation_to_binomial(1000, 0.5)\n",
    "print(mu_0, sigma_0)\n",
    "# 95% bounds based on assumption p is 0.5\n",
    "lo, hi = normal_two_sided_bounds(0.95, mu_0, sigma_0)\n",
    "print(lo, hi)\n",
    "\n",
    "# let's check what happens if p is 0.55\n",
    "# actual mu and sigma based on p = 0.55\n",
    "mu_1, sigma_1 = normal_approximation_to_binomial(1000, 0.55)\n",
    "print(mu_1, sigma_1)"
   ]
  },
  {
   "cell_type": "code",
   "execution_count": 49,
   "metadata": {},
   "outputs": [
    {
     "name": "stdout",
     "output_type": "stream",
     "text": [
      "0.8865480012953671\n",
      "0.9363794803307173\n"
     ]
    }
   ],
   "source": [
    "# a type 2 error means we fail to reject the null hypothesis,\n",
    "# which will happen when X is still in our original interval\n",
    "type_2_probability = normal_probability_between(lo, hi, mu_1, sigma_1)\n",
    "power = 1 - type_2_probability\n",
    "print(power)\n",
    "\n",
    "hi = normal_upper_bound(0.95, mu_0, sigma_0)\n",
    "# is 526 (< 531, since we need more probability in the upper tail)\n",
    "\n",
    "type_2_probability = normal_probability_below(hi, mu_1, sigma_1)\n",
    "power = 1 - type_2_probability   \n",
    "print(power)    # 0.936"
   ]
  },
  {
   "cell_type": "code",
   "execution_count": 50,
   "metadata": {},
   "outputs": [
    {
     "data": {
      "text/plain": [
       "0.06207721579598835"
      ]
     },
     "execution_count": 50,
     "metadata": {},
     "output_type": "execute_result"
    }
   ],
   "source": [
    "def two_sided_p_value(x: float, mu: float = 0, sigma: float = 1) -> float:\n",
    "    \"\"\"\n",
    "    How likely are we to see a value at least as extreme as x (in either\n",
    "    direction) if our values are from an N(mu, sigma)?\n",
    "    \"\"\"\n",
    "    if x >= mu:\n",
    "        # x is greater than the mean, so the tail is everything greater than x\n",
    "        return 2 * normal_probability_above(x, mu, sigma)\n",
    "    else:\n",
    "        # x is less than the mean, so the tail is everything less than x\n",
    "        return 2 * normal_probability_below(x, mu, sigma)\n",
    "\n",
    "# we want to see 530 heads(2 sides). We put 529.5 for continuity correction\n",
    "two_sided_p_value(529.5, mu_0, sigma_0)   # 0.062"
   ]
  },
  {
   "cell_type": "code",
   "execution_count": 52,
   "metadata": {},
   "outputs": [],
   "source": [
    "import random\n",
    "\n",
    "# to prove that our logic is working we can do a simulation\n",
    "extreme_value_count = 0\n",
    "for _ in range(1000):\n",
    "    num_heads = sum(1 if random.random() < 0.5 else 0    # Count # of heads\n",
    "                    for _ in range(1000))                # in 1000 flips,\n",
    "    if num_heads >= 530 or num_heads <= 470:             # and count how often\n",
    "        extreme_value_count += 1                         # the # is 'extreme'\n",
    "\n",
    "# p-value was 0.062 => ~62 extreme values out of 1000\n",
    "assert 59 <= extreme_value_count <= 65, f\"{extreme_value_count}\""
   ]
  },
  {
   "cell_type": "code",
   "execution_count": null,
   "metadata": {},
   "outputs": [
    {
     "name": "stdout",
     "output_type": "stream",
     "text": [
      "0.046345287837786575\n",
      "0.06062885772582072\n",
      "0.04686839508859242\n"
     ]
    }
   ],
   "source": [
    "# if we have a result < than the significance (5%) we should discard the H0\n",
    "print(two_sided_p_value(531.5, mu_0, sigma_0))\n",
    "\n",
    "# same for upper and lower p\n",
    "upper_p_value = normal_probability_above\n",
    "lower_p_value = normal_probability_below\n",
    "print(upper_p_value(524.5, mu_0, sigma_0)) # keep\n",
    "print(upper_p_value(526.5, mu_0, sigma_0)) # discard"
   ]
  },
  {
   "cell_type": "code",
   "execution_count": null,
   "metadata": {},
   "outputs": [
    {
     "name": "stdout",
     "output_type": "stream",
     "text": [
      "(0.4940490278129096, 0.5559509721870904)\n",
      "(0.5091095927295919, 0.5708904072704082)\n"
     ]
    }
   ],
   "source": [
    "p_hat = 525 / 1000\n",
    "mu = p_hat\n",
    "sigma = math.sqrt(p_hat * (1 - p_hat) / 1000)   # 0.0158\n",
    "print(normal_two_sided_bounds(0.95, mu, sigma)) # [0.4940, 0.5560]\n",
    "\n",
    "# it's still fair because it stays in our confidence interval.\n",
    "# if we increase it to 540 it gets too influenced to be fair\n",
    "p_hat = 540 / 1000\n",
    "mu = p_hat\n",
    "sigma = math.sqrt(p_hat * (1 - p_hat) / 1000)   # 0.0158\n",
    "print(normal_two_sided_bounds(0.95, mu, sigma)) # [0.5091, 0.5709]"
   ]
  },
  {
   "cell_type": "code",
   "execution_count": null,
   "metadata": {},
   "outputs": [],
   "source": [
    "# p-hacking -> you test enough hypotheses against your dataset. you remove the outliers and you can get your p-value below 0.05\n",
    "from typing import List\n",
    "\n",
    "def run_experiment() -> List[bool]:\n",
    "    \"\"\"Flips a fair coin 1000 times, True = heads, False = tails\"\"\"\n",
    "    return [random.random() < 0.5 for _ in range(1000)]\n",
    "\n",
    "def reject_fairness(experiment: List[bool]) -> bool:\n",
    "    \"\"\"Using the 5% significance levels\"\"\"\n",
    "    num_heads = len([flip for flip in experiment if flip])\n",
    "    return num_heads < 469 or num_heads > 531\n",
    "\n",
    "random.seed(0)\n",
    "experiments = [run_experiment() for _ in range(1000)]\n",
    "num_rejections = len([experiment\n",
    "                      for experiment in experiments\n",
    "                      if reject_fairness(experiment)])\n",
    "\n",
    "assert num_rejections == 46"
   ]
  },
  {
   "cell_type": "code",
   "execution_count": null,
   "metadata": {},
   "outputs": [],
   "source": [
    "# A/B testing\n",
    "def estimated_parameters(N: int, n: int) -> Tuple[float, float]:\n",
    "    p = n / N\n",
    "    sigma = math.sqrt(p * (1 - p) / N)\n",
    "    return p, sigma\n",
    "def a_b_test_statistic(N_A: int, n_A: int, N_B: int, n_B: int) -> float:\n",
    "    p_A, sigma_A = estimated_parameters(N_A, n_A)\n",
    "    p_B, sigma_B = estimated_parameters(N_B, n_B)\n",
    "    return (p_B - p_A) / math.sqrt(sigma_A ** 2 + sigma_B ** 2)\n",
    "\n",
    "z = a_b_test_statistic(1000, 200, 1000, 180)    # -1.14\n",
    "#probability we would see these clicks numbers if the ads were equally effective\n",
    "print(two_sided_p_value(z))                     # 0.254\n",
    "\n",
    "z = a_b_test_statistic(1000, 200, 1000, 150)    # -2.94\n",
    "# here the probability gets lower and lower\n",
    "print(two_sided_p_value(z))                     # 0.003"
   ]
  },
  {
   "cell_type": "code",
   "execution_count": null,
   "metadata": {},
   "outputs": [],
   "source": [
    "# Bayesian Inference\n",
    "def B(alpha: float, beta: float) -> float:\n",
    "    \"\"\"A normalizing constant so that the total probability is 1\"\"\"\n",
    "    return math.gamma(alpha) * math.gamma(beta) / math.gamma(alpha + beta)\n",
    "\n",
    "def beta_pdf(x: float, alpha: float, beta: float) -> float:\n",
    "    if x <= 0 or x >= 1:          # no weight outside of [0, 1]\n",
    "        return 0\n",
    "    return x ** (alpha - 1) * (1 - x) ** (beta - 1) / B(alpha, beta)\n",
    "\n",
    "# you start with an hypothesis: a fair coin is 55-45. Then you test it and get data that adds up to it.\n",
    "# you lunch a coin 10 times and you get 5-5 so you add them 60-55. You can repeat it, the more you repeat the less the first assumption will weight.\n",
    "# the goal is to have a statement easy to understand but still statistically powerfull like: \n",
    "# “Based on the prior and the observed data, there is only a 5% likelihood the coin’s heads probability is between 49% and 51%.”"
   ]
  }
 ],
 "metadata": {
  "interpreter": {
   "hash": "5207bb88b4cad36c522ddd0321c41d9d1435820ac336d39d579f6bdc27d65fa1"
  },
  "kernelspec": {
   "display_name": "Python 3.8.8 ('base')",
   "language": "python",
   "name": "python3"
  },
  "language_info": {
   "codemirror_mode": {
    "name": "ipython",
    "version": 3
   },
   "file_extension": ".py",
   "mimetype": "text/x-python",
   "name": "python",
   "nbconvert_exporter": "python",
   "pygments_lexer": "ipython3",
   "version": "3.8.8"
  },
  "orig_nbformat": 4
 },
 "nbformat": 4,
 "nbformat_minor": 2
}
