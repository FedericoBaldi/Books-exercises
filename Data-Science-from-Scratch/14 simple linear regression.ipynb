{
 "cells": [
  {
   "cell_type": "code",
   "execution_count": 1,
   "metadata": {},
   "outputs": [],
   "source": [
    "# SIMPLE LINEAR REGRESSION\n",
    "# We want to create a model describing the relation between minutes spent on the web-site and number of friends\n",
    "# we already understood there is a strong linear relationship, let's start with that\n",
    "\n",
    "# Yi = bXi + a + Ei\n",
    "# Yi is the number of minutes user i spends on the site daily\n",
    "# Xi is the number of friends user i has and E is a error term\n",
    "# b and a are constants\n",
    "from IPython.display import clear_output\n",
    "from importnb import Notebook\n",
    "la = Notebook.load(\"4 linear_algebra.ipynb\")\n",
    "st = Notebook.load(\"5 statistics.ipynb\")\n",
    "gd = Notebook.load(\"8 gradient descent.ipynb\")\n",
    "clear_output()\n",
    "from typing import Tuple\n",
    "\n",
    "def predict(alpha: float, beta: float, x_i: float) -> float:\n",
    "    return beta * x_i + alpha\n",
    "\n",
    "# since we know the yi and xi we can compute the error for each pair\n",
    "def error(alpha: float, beta: float, x_i: float, y_i: float) -> float:\n",
    "    \"\"\"\n",
    "    The error from predicting beta * x_i + alpha\n",
    "    when the actual value is y_i\n",
    "    \"\"\"\n",
    "    return predict(alpha, beta, x_i) - y_i\n",
    "\n",
    "def sum_of_sqerrors(alpha: float, beta: float, x: la.Vector, y: la.Vector) -> float:\n",
    "    return sum(error(alpha, beta, x_i, y_i) ** 2\n",
    "               for x_i, y_i in zip(x, y))\n",
    "\n",
    "# The least squares solution is to choose the alpha and beta that make sum_of_sqerrors as small as possible.\n",
    "def least_squares_fit(x: la.Vector, y: la.Vector) -> Tuple[float, float]:\n",
    "    \"\"\"\n",
    "    Given two vectors x and y,\n",
    "    find the least-squares values of alpha and beta\n",
    "    \"\"\"\n",
    "    beta = st.correlation(x, y) * st.standard_deviation(y) / st.standard_deviation(x)\n",
    "    alpha = st.mean(y) - beta * st.mean(x)\n",
    "    return alpha, beta\n",
    "\n",
    "# let's do a quick test\n",
    "x = [i for i in range(-100, 110, 10)]\n",
    "y = [3 * i - 5 for i in x]\n",
    "\n",
    "# Should find that y = 3x - 5\n",
    "assert least_squares_fit(x, y) == (-5, 3)"
   ]
  },
  {
   "cell_type": "code",
   "execution_count": 2,
   "metadata": {},
   "outputs": [
    {
     "data": {
      "image/png": "[encoded data removed]",
      "text/plain": [
       "<Figure size 576x432 with 1 Axes>"
      ]
     },
     "metadata": {
      "needs_background": "light"
     },
     "output_type": "display_data"
    }
   ],
   "source": [
    "alpha, beta = least_squares_fit(st.num_friends_good, st.daily_minutes_good)\n",
    "assert 22.9 < alpha < 23.0\n",
    "assert 0.9 < beta < 0.905\n",
    "\n",
    "import matplotlib.pyplot as plt\n",
    "# let's see how it looks like\n",
    "plt.figure(figsize=(8, 6))\n",
    "plt.title(\"Simple Linear Regression Model\")\n",
    "plt.plot(st.num_friends_good, st.daily_minutes_good, 'bo', label='Actual')       # red  x\n",
    "xTest = [i for i in range(0, 50)]\n",
    "yPred = [predict(alpha, beta, x) for x in xTest]\n",
    "plt.plot(xTest, yPred, label='Prediction')\n",
    "plt.xlabel('# of friends')\n",
    "plt.ylabel('minutes per day')\n",
    "plt.xlim([0, 50])\n",
    "plt.ylim([0, 100])\n",
    "plt.legend(loc=9)\n",
    "plt.show()"
   ]
  },
  {
   "cell_type": "code",
   "execution_count": 3,
   "metadata": {},
   "outputs": [
    {
     "name": "stdout",
     "output_type": "stream",
     "text": [
      "r-squared 0.3291078377836305\n"
     ]
    }
   ],
   "source": [
    "# we need to measure the how good the model is fitting the data. A common measure is coefficient of determination (or R-squared)\n",
    "def total_sum_of_squares(y: la.Vector) -> float:\n",
    "    \"\"\"the total squared variation of y_i's from their mean\"\"\"\n",
    "    return sum(v ** 2 for v in st.de_mean(y))\n",
    "    \n",
    "def r_squared(alpha: float, beta: float, x: la.Vector, y: la.Vector) -> float:\n",
    "    \"\"\"\n",
    "    the fraction of variation in y captured by the model, which equals\n",
    "    1 - the fraction of variation in y not captured by the model\n",
    "    \"\"\"\n",
    "    return 1.0 - (sum_of_sqerrors(alpha, beta, x, y) /\n",
    "                  total_sum_of_squares(y))\n",
    "# our prediction should be at least better then alpha = mean(y) and beta = 0\n",
    "rsq = r_squared(alpha, beta, st.num_friends_good, st.daily_minutes_good)\n",
    "assert 0.328 < rsq < 0.330 # the higher it is the better the model is\n",
    "\n",
    "print(\"r-squared\", r_squared(alpha, beta, st.num_friends_good, st.daily_minutes_good))"
   ]
  },
  {
   "cell_type": "code",
   "execution_count": 4,
   "metadata": {},
   "outputs": [
    {
     "name": "stderr",
     "output_type": "stream",
     "text": [
      "loss: 13196.619: 100%|██████████| 10000/10000 [00:21<00:00, 455.04it/s]\n"
     ]
    }
   ],
   "source": [
    "# we can try to do the same, using gradient descent\n",
    "import random\n",
    "import tqdm\n",
    "num_epochs = 10000\n",
    "random.seed(0)\n",
    "guess = [random.random(), random.random()]  # choose random value to start\n",
    "learning_rate = 0.00001\n",
    "\n",
    "with tqdm.trange(num_epochs) as t:\n",
    "    for _ in t:\n",
    "        alpha, beta = guess\n",
    "        # Partial derivative of loss with respect to alpha\n",
    "        grad_a = sum(2 * error(alpha, beta, x_i, y_i)\n",
    "                     for x_i, y_i in zip(st.num_friends_good,\n",
    "                                         st.daily_minutes_good))\n",
    "        # Partial derivative of loss with respect to beta\n",
    "        grad_b = sum(2 * error(alpha, beta, x_i, y_i) * x_i\n",
    "                     for x_i, y_i in zip(st.num_friends_good,\n",
    "                                         st.daily_minutes_good))\n",
    "        # Compute loss to stick in the tqdm description\n",
    "        loss = sum_of_sqerrors(alpha, beta,\n",
    "                               st.num_friends_good, st.daily_minutes_good)\n",
    "        t.set_description(f\"loss: {loss:.3f}\")\n",
    "        # Finally, update the guess\n",
    "        guess = gd.gradient_step(guess, [grad_a, grad_b], -learning_rate)\n",
    "\n",
    "# We should get pretty much the same results:\n",
    "alpha, beta = guess\n",
    "assert 22.9 < alpha < 23.0\n",
    "assert 0.9 < beta < 0.905"
   ]
  }
 ],
 "metadata": {
  "interpreter": {
   "hash": "99a4e34db7e30f36b1ef5457f416347a7ea235dd25b8ab561424bdae8460da4b"
  },
  "kernelspec": {
   "display_name": "Python 3.8.8 ('base')",
   "language": "python",
   "name": "python3"
  },
  "language_info": {
   "codemirror_mode": {
    "name": "ipython",
    "version": 3
   },
   "file_extension": ".py",
   "mimetype": "text/x-python",
   "name": "python",
   "nbconvert_exporter": "python",
   "pygments_lexer": "ipython3",
   "version": "3.8.8"
  },
  "orig_nbformat": 4
 },
 "nbformat": 4,
 "nbformat_minor": 2
}
