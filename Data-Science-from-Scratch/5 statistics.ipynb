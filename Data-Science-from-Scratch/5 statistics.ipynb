{
 "cells": [
  {
   "cell_type": "code",
   "execution_count": 34,
   "metadata": {},
   "outputs": [
    {
     "data": {
      "image/png": "[encoded data removed]",
      "text/plain": [
       "<Figure size 432x288 with 1 Axes>"
      ]
     },
     "metadata": {
      "needs_background": "light"
     },
     "output_type": "display_data"
    }
   ],
   "source": [
    "from collections import Counter\n",
    "import matplotlib.pyplot as plt\n",
    "from typing import List\n",
    "from importnb import Notebook\n",
    "lalgebra = Notebook.load(\"4 linear_algebra.ipynb\")\n",
    "\n",
    "# when you have a large dataset, it needs statistics to communicate relevant features of your data\n",
    "num_friends = [100, 49, 41, 40, 25, 20, 10, 14, 30, 35, 1, 5, 10, 90, 88, 46, 34, 25, 24, 33, 50, 14, 12, 11, 23, 4, 12, 11, 21, 9, 9, 6, 7, 5, 4, 3, 2, 1, 10, 11, 15, 13, 9,\n",
    "23, 4, 12, 11, 23, 5, 8, 10, 20, 22, 21, 9, 9, 6, 7, 5, 4, 3, 2, 1, 10, 11, 15, 23, 12, 13, 15, 8, 6, 23, 4, 12, 11, 23, 5, 8, 10, 20, 22, 21, 9, 9, 7, 5, 4, 3, 2, 1, 10, 8,\n",
    "6, 7, 5, 4, 3, 2, 13, 12, 4, 5, 10, 21, 20, 28, 12, 4, 10, 12, 15, 6,23, 4, 12, 11, 23, 5, 8, 10, 20, 22, 21,  9, 9,  7, 5, 4, 3, 2, 1, 10, 10, 14, 30, 35, 1, 9, 12, 15, 7,\n",
    "23, 4, 12, 11, 23, 5, 8, 10, 20, 22, 21, 9, 9, 6, 7, 5, 4, 3, 2, 1, 10, 11, 15, 23, 12, 13, 15, 8, 6, 23, 4, 12, 11, 23, 5, 8, 10, 20, 22, 21, 9, 9, 7, 5, 4, 3, 2, 1, 10]\n",
    "friend_counts = Counter(num_friends)\n",
    "xs = range(101)                         # largest value is 100\n",
    "ys = [friend_counts[x] for x in xs]     # height is just # of friends\n",
    "plt.bar(xs, ys)\n",
    "plt.axis([0, 101, 0, 25])\n",
    "plt.title(\"Histogram of Friend Counts\")\n",
    "plt.xlabel(\"# of friends\")\n",
    "plt.ylabel(\"# of people\")\n",
    "plt.show()"
   ]
  },
  {
   "cell_type": "code",
   "execution_count": 35,
   "metadata": {},
   "outputs": [],
   "source": [
    "num_points = len(num_friends)               # 191\n",
    "largest_value = max(num_friends)            # 100\n",
    "smallest_value = min(num_friends)           # 1\n",
    "\n",
    "sorted_values = sorted(num_friends)\n",
    "smallest_value = sorted_values[0]           # 1\n",
    "second_smallest_value = sorted_values[1]    # 1\n",
    "second_largest_value = sorted_values[-2]    # 90"
   ]
  },
  {
   "cell_type": "code",
   "execution_count": 36,
   "metadata": {},
   "outputs": [
    {
     "data": {
      "text/plain": [
       "13.534031413612565"
      ]
     },
     "execution_count": 36,
     "metadata": {},
     "output_type": "execute_result"
    }
   ],
   "source": [
    "def mean(xs: List[float]) -> float:\n",
    "    return sum(xs) / len(xs)\n",
    "\n",
    "mean(num_friends)   # 13.5340"
   ]
  },
  {
   "cell_type": "code",
   "execution_count": 37,
   "metadata": {},
   "outputs": [
    {
     "name": "stdout",
     "output_type": "stream",
     "text": [
      "10\n"
     ]
    }
   ],
   "source": [
    "# we create a simple median function that consider odd and even length.\n",
    "# The underscores indicate that these are \"private\" functions, as they're\n",
    "# intended to be called by our median function but not by other people\n",
    "# using our statistics library.\n",
    "def _median_odd(xs: List[float]) -> float:\n",
    "    \"\"\"If len(xs) is odd, the median is the middle element\"\"\"\n",
    "    return sorted(xs)[len(xs) // 2]\n",
    "\n",
    "def _median_even(xs: List[float]) -> float:\n",
    "    \"\"\"If len(xs) is even, it's the average of the middle two elements\"\"\"\n",
    "    sorted_xs = sorted(xs)\n",
    "    hi_midpoint = len(xs) // 2  # e.g. length 4 => hi_midpoint 2\n",
    "    return (sorted_xs[hi_midpoint - 1] + sorted_xs[hi_midpoint]) / 2\n",
    "\n",
    "def median(v: List[float]) -> float:\n",
    "    \"\"\"Finds the 'middle-most' value of v\"\"\"\n",
    "    return _median_even(v) if len(v) % 2 == 0 else _median_odd(v)\n",
    "\n",
    "assert median([1, 10, 2, 9, 5]) == 5\n",
    "assert median([1, 9, 2, 10]) == (2 + 9) / 2\n",
    "print(median(num_friends))"
   ]
  },
  {
   "cell_type": "code",
   "execution_count": 38,
   "metadata": {},
   "outputs": [],
   "source": [
    "# the quantile represents the value under which a certain percentile of the data lies\n",
    "# (the median represents the value under which 50% of the data lies)\n",
    "def quantile(xs: List[float], p: float) -> float:\n",
    "    \"\"\"Returns the pth-percentile value in x\"\"\"\n",
    "    p_index = int(p * len(xs))\n",
    "    return sorted(xs)[p_index]\n",
    "\n",
    "assert quantile(num_friends, 0.10) == 3\n",
    "assert quantile(num_friends, 0.25) == 5\n",
    "assert quantile(num_friends, 0.75) == 20\n",
    "assert quantile(num_friends, 0.90) == 23\n",
    "assert quantile(num_friends, 0.50) == median(num_friends)"
   ]
  },
  {
   "cell_type": "code",
   "execution_count": 39,
   "metadata": {},
   "outputs": [],
   "source": [
    "def mode(x: List[float]) -> List[float]:\n",
    "    \"\"\"Returns a list, since there might be more than one mode\"\"\"\n",
    "    counts = Counter(x)\n",
    "    max_count = max(counts.values())\n",
    "    return [x_i for x_i, count in counts.items()\n",
    "            if count == max_count]\n",
    "assert set(mode(num_friends)) == {10}"
   ]
  },
  {
   "cell_type": "code",
   "execution_count": 40,
   "metadata": {},
   "outputs": [],
   "source": [
    "# another stat we can use to describe and understand the data, is dispersion\n",
    "# it can be measured in different ways, one of the simpliest is the range between max and min values\n",
    "# \"range\" already means something in Python, so we'll use a different name\n",
    "def data_range(xs: List[float]) -> float:\n",
    "    return max(xs) - min(xs)\n",
    "\n",
    "assert data_range(num_friends) == 99\n",
    "\n",
    "# a better measure of dispersion is the variance\n",
    "Vector = List[float]\n",
    "\n",
    "def de_mean(xs: List[float]) -> List[float]:\n",
    "    \"\"\"Translate xs by subtracting its mean (so the result has mean 0)\"\"\"\n",
    "    x_bar = mean(xs)\n",
    "    return [x - x_bar for x in xs]\n",
    "\n",
    "def variance(xs: List[float]) -> float:\n",
    "    \"\"\"Almost the average squared deviation from the mean\"\"\"\n",
    "    assert len(xs) >= 2, \"variance requires at least two elements\"\n",
    "\n",
    "    n = len(xs)\n",
    "    deviations = de_mean(xs)\n",
    "    return lalgebra.sum_of_squares(deviations) / (n - 1)\n",
    "\n",
    "assert 160 < variance(num_friends) < 200"
   ]
  },
  {
   "cell_type": "code",
   "execution_count": 41,
   "metadata": {},
   "outputs": [],
   "source": [
    "import math\n",
    "def standard_deviation(xs: List[float]) -> float:\n",
    "    \"\"\"The standard deviation is the square root of the variance\"\"\"\n",
    "    return math.sqrt(variance(xs))\n",
    "\n",
    "assert 13.6 < standard_deviation(num_friends) < 13.8\n",
    "\n",
    "# a more robust alternative\n",
    "def interquartile_range(xs: List[float]) -> float:\n",
    "    \"\"\"Returns the difference between the 75%-ile and the 25%-ile\"\"\"\n",
    "    return quantile(xs, 0.75) - quantile(xs, 0.25)\n",
    "\n",
    "assert interquartile_range(num_friends) == 15"
   ]
  },
  {
   "cell_type": "code",
   "execution_count": 43,
   "metadata": {},
   "outputs": [],
   "source": [
    "# are the minutes spent in the company related to the number of friends in the company?\n",
    "# to investigate the relation between two metrics\n",
    "from numpy.random import default_rng\n",
    "daily_minutes = default_rng(1).integers(low=200, high=600, size = 191)\n",
    "daily_hours = [(lambda x: x*60)(x) for x in daily_minutes] # or easily [x*60 for x in daily_minutes]\n",
    "def covariance(xs: List[float], ys: List[float]) -> float:\n",
    "    assert len(xs) == len(ys), \"xs and ys must have same number of elements\"\n",
    "    return lalgebra.dot(de_mean(xs), de_mean(ys)) / (len(xs) - 1)\n",
    "\n",
    "assert 11.78 < covariance(num_friends, daily_minutes) < 11.92\n",
    "assert 11.78 < covariance(num_friends, daily_hours)/60 < 11.92\n",
    "\n",
    "# since it is not easy to estimate how \"large\" or \"small\" the covariance is, it better to use correlation\n",
    "def correlation(xs: List[float], ys: List[float]) -> float:\n",
    "    \"\"\"Measures how much xs and ys vary in tandem about their means\"\"\"\n",
    "    stdev_x = standard_deviation(xs)\n",
    "    stdev_y = standard_deviation(ys)\n",
    "    if stdev_x > 0 and stdev_y > 0:\n",
    "        return covariance(xs, ys) / stdev_x / stdev_y\n",
    "    else:\n",
    "        return 0    # if no variation, correlation is zero\n",
    "\n",
    "assert 0.007 < correlation(num_friends, daily_minutes) < 0.008 #weak positive correlation\n",
    "assert 0.007 < correlation(num_friends, daily_hours) < 0.008\n",
    "# correlation is unit-less, it lies between -1(weak) and 1(strong)\n",
    "# keep in mind: correlation is very sensitive to outliers. double-check the dataset to make sure you dont have outliers justified to be excluded"
   ]
  },
  {
   "cell_type": "code",
   "execution_count": null,
   "metadata": {},
   "outputs": [],
   "source": [
    "'''\n",
    "For Further Exploration\n",
    "SciPy, pandas, and StatsModels all come with a wide variety of statistical functions.\n",
    "\n",
    "Statistics is important. (Or maybe statistics are important?) If you want to be a better data scientist, it would be a good idea to read a statistics textbook. Many are freely available online, including:\n",
    "\n",
    "Introductory Statistics, by Douglas Shafer and Zhiyi Zhang (Saylor Foundation)\n",
    "\n",
    "OnlineStatBook, by David Lane (Rice University)\n",
    "\n",
    "Introductory Statistics, by OpenStax (OpenStax College)\n",
    "'''"
   ]
  }
 ],
 "metadata": {
  "interpreter": {
   "hash": "5207bb88b4cad36c522ddd0321c41d9d1435820ac336d39d579f6bdc27d65fa1"
  },
  "kernelspec": {
   "display_name": "Python 3.8.8 64-bit ('base': conda)",
   "language": "python",
   "name": "python3"
  },
  "language_info": {
   "codemirror_mode": {
    "name": "ipython",
    "version": 3
   },
   "file_extension": ".py",
   "mimetype": "text/x-python",
   "name": "python",
   "nbconvert_exporter": "python",
   "pygments_lexer": "ipython3",
   "version": "3.8.8"
  },
  "orig_nbformat": 4
 },
 "nbformat": 4,
 "nbformat_minor": 2
}
